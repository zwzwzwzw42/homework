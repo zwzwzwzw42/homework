{
 "cells": [
  {
   "cell_type": "code",
   "execution_count": 8,
   "id": "ebbb78df-d875-42fb-a830-6b763a859a26",
   "metadata": {},
   "outputs": [],
   "source": [
    "from flask import Flask\n",
    "app = Flask(__name__) \n",
    "\n",
    "@app.route(\"/<name>\")\n",
    "def hello(name):\n",
    "    return f\"\"\"<!DOCTYPE html>\n",
    "<html>\n",
    "    <body>\n",
    "        <p>hello world, <b>{name}</b></p>\n",
    "    </body>\n",
    "</html>\"\"\"\n",
    "@app.route(\"/\")\n",
    "def init():\n",
    "    return f\"\"\"<!doctype html>\n",
    "<html>\n",
    "  <body>\n",
    "    <table border=1>\n",
    "      <thead>\n",
    "        <tr>\n",
    "          <td>ID</td>\n",
    "          <td>name</td>\n",
    "          <td>age</td>\n",
    "        </tr>\n",
    "           </thead>\n",
    "      <tbody>\n",
    "    </table>\n",
    "  </body>\n",
    "</html>\"\"\""
   ]
  },
  {
   "cell_type": "code",
   "execution_count": null,
   "id": "a1c14216-746e-440a-a1cc-ea3511e2e5b5",
   "metadata": {},
   "outputs": [
    {
     "name": "stdout",
     "output_type": "stream",
     "text": [
      " * Serving Flask app '__main__'\n",
      " * Debug mode: off\n"
     ]
    },
    {
     "name": "stderr",
     "output_type": "stream",
     "text": [
      "WARNING: This is a development server. Do not use it in a production deployment. Use a production WSGI server instead.\n",
      " * Running on http://127.0.0.1:5000\n",
      "Press CTRL+C to quit\n",
      "127.0.0.1 - - [19/Jan/2025 17:08:36] \"GET / HTTP/1.1\" 200 -\n",
      "127.0.0.1 - - [19/Jan/2025 17:08:36] \"GET /favicon.ico HTTP/1.1\" 200 -\n"
     ]
    }
   ],
   "source": [
    "if __name__ == '__main__':\n",
    "    app.run(debug=False)"
   ]
  },
  {
   "cell_type": "code",
   "execution_count": null,
   "id": "16bdfc6e-5e53-4f9b-9abb-a52d2fd1e8e4",
   "metadata": {},
   "outputs": [],
   "source": []
  },
  {
   "cell_type": "code",
   "execution_count": null,
   "id": "30bf14d8-1591-48d1-b2a3-0af2f8d92f2b",
   "metadata": {},
   "outputs": [],
   "source": []
  },
  {
   "cell_type": "code",
   "execution_count": null,
   "id": "1809552e-e51f-4a30-97d9-574a6ebd992b",
   "metadata": {},
   "outputs": [],
   "source": []
  }
 ],
 "metadata": {
  "kernelspec": {
   "display_name": "Python 3 (ipykernel)",
   "language": "python",
   "name": "python3"
  },
  "language_info": {
   "codemirror_mode": {
    "name": "ipython",
    "version": 3
   },
   "file_extension": ".py",
   "mimetype": "text/x-python",
   "name": "python",
   "nbconvert_exporter": "python",
   "pygments_lexer": "ipython3",
   "version": "3.9.12"
  }
 },
 "nbformat": 4,
 "nbformat_minor": 5
}
