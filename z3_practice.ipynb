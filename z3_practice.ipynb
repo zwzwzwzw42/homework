{
 "cells": [
  {
   "cell_type": "code",
   "execution_count": 1,
   "id": "6efcef69-5c21-4fae-8186-45e3125e2485",
   "metadata": {},
   "outputs": [
    {
     "name": "stdout",
     "output_type": "stream",
     "text": [
      "[rabbits = 12, chicken = 23]\n"
     ]
    }
   ],
   "source": [
    "import z3\n",
    "chicken = z3.Int(\"chicken\")\n",
    "rabbits = z3.Int(\"rabbits\")\n",
    "solver = z3.Solver()\n",
    "solver.add(chicken >= 1)\n",
    "solver.add(rabbits >= 1)\n",
    "solver.add(chicken + rabbits == 35)\n",
    "solver.add(chicken * 2 + rabbits * 4 == 94)\n",
    "if solver.check() == z3.sat:\n",
    "    print(solver.model())\n",
    "else:\n",
    "    print(\"not satisfiable\")"
   ]
  },
  {
   "cell_type": "code",
   "execution_count": 2,
   "id": "1c2518c3-11aa-4ebe-a0b1-660ad18df5aa",
   "metadata": {},
   "outputs": [
    {
     "name": "stdout",
     "output_type": "stream",
     "text": [
      "1\n"
     ]
    }
   ],
   "source": [
    "circle, triangle, square = z3.Ints(\"circle triangle square\")\n",
    "solver = z3.Solver()\n",
    "solver.add(circle + circle == 10)\n",
    "solver.add(circle * square + square == 12)\n",
    "solver.add(circle * square - triangle * circle == circle)\n",
    "if solver.check() == z3.sat:\n",
    "    print(solver.model()[triangle])"
   ]
  },
  {
   "cell_type": "code",
   "execution_count": 3,
   "id": "fb287bd6-2b93-417e-ba7d-5726b2dfdc99",
   "metadata": {},
   "outputs": [
    {
     "name": "stdout",
     "output_type": "stream",
     "text": [
      "not satisfiable\n"
     ]
    }
   ],
   "source": [
    "A, B, C, D = z3.Bools(\"A B C D\")\n",
    "solver = z3.Solver()\n",
    "# A -> B\n",
    "solver.add(-1 * z3.If(A, 1, 0) + z3.If(B, 1, 0) >=  0)\n",
    "# A -> C\n",
    "solver.add(-1 * z3.If(A, 1, 0) + z3.If(C, 1, 0) >= 0)\n",
    "# B -> D\n",
    "solver.add(-1 * z3.If(B, 1, 0) + z3.If(D, 1, 0) >= 0)\n",
    "# C -x- D\n",
    "solver.add(z3.If(C, 1, 0) + z3.If(D, 1, 0) <= 1)\n",
    "solver.add(A == True)\n",
    "\n",
    "if solver.check() == z3.sat:\n",
    "    print(solver.model())\n",
    "else:\n",
    "    print(\"not satisfiable\")"
   ]
  },
  {
   "cell_type": "code",
   "execution_count": 4,
   "id": "d939e335-4fa7-4ef8-abc7-7cc2438221ae",
   "metadata": {},
   "outputs": [
    {
     "name": "stdout",
     "output_type": "stream",
     "text": [
      "not satisfiable\n"
     ]
    }
   ],
   "source": [
    "A, B, C, D = z3.Bools(\"A B C D\")\n",
    "solver = z3.Solver()\n",
    "solver.add(z3.Implies(A, B))\n",
    "solver.add(z3.Implies(A, C))\n",
    "solver.add(z3.Implies(B, D))\n",
    "solver.add(z3.Implies(C, z3.Not(D)))\n",
    "solver.add(A == True)\n",
    "if solver.check() == z3.sat:\n",
    "    print(solver.model())\n",
    "else:\n",
    "    print(\"not satisfiable\")"
   ]
  },
  {
   "cell_type": "code",
   "execution_count": null,
   "id": "040a8f36-cd87-42ed-8807-dba01320398e",
   "metadata": {},
   "outputs": [],
   "source": []
  }
 ],
 "metadata": {
  "kernelspec": {
   "display_name": "Python 3 (ipykernel)",
   "language": "python",
   "name": "python3"
  },
  "language_info": {
   "codemirror_mode": {
    "name": "ipython",
    "version": 3
   },
   "file_extension": ".py",
   "mimetype": "text/x-python",
   "name": "python",
   "nbconvert_exporter": "python",
   "pygments_lexer": "ipython3",
   "version": "3.9.12"
  }
 },
 "nbformat": 4,
 "nbformat_minor": 5
}
